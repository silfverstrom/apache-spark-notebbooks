{
 "cells": [
  {
   "cell_type": "code",
   "execution_count": 1,
   "id": "heard-member",
   "metadata": {},
   "outputs": [
    {
     "data": {
      "application/vnd.jupyter.widget-view+json": {
       "model_id": "b90998fb0322468998529f4946e78099",
       "version_major": 2,
       "version_minor": 0
      },
      "text/plain": [
       "VBox()"
      ]
     },
     "metadata": {},
     "output_type": "display_data"
    },
    {
     "name": "stdout",
     "output_type": "stream",
     "text": [
      "Starting Spark application\n"
     ]
    },
    {
     "data": {
      "text/html": [
       "<table>\n",
       "<tr><th>ID</th><th>YARN Application ID</th><th>Kind</th><th>State</th><th>Spark UI</th><th>Driver log</th><th>Current session?</th></tr><tr><td>4</td><td>application_1618243386223_0005</td><td>pyspark</td><td>idle</td><td><a target=\"_blank\" href=\"http://ip-172-31-30-220.eu-central-1.compute.internal:20888/proxy/application_1618243386223_0005/\">Link</a></td><td><a target=\"_blank\" href=\"http://ip-172-31-17-47.eu-central-1.compute.internal:8042/node/containerlogs/container_1618243386223_0005_01_000001/livy\">Link</a></td><td>✔</td></tr></table>"
      ],
      "text/plain": [
       "<IPython.core.display.HTML object>"
      ]
     },
     "metadata": {},
     "output_type": "display_data"
    },
    {
     "data": {
      "application/vnd.jupyter.widget-view+json": {
       "model_id": "",
       "version_major": 2,
       "version_minor": 0
      },
      "text/plain": [
       "FloatProgress(value=0.0, bar_style='info', description='Progress:', layout=Layout(height='25px', width='50%'),…"
      ]
     },
     "metadata": {},
     "output_type": "display_data"
    },
    {
     "name": "stdout",
     "output_type": "stream",
     "text": [
      "SparkSession available as 'spark'.\n"
     ]
    },
    {
     "data": {
      "application/vnd.jupyter.widget-view+json": {
       "model_id": "",
       "version_major": 2,
       "version_minor": 0
      },
      "text/plain": [
       "FloatProgress(value=0.0, bar_style='info', description='Progress:', layout=Layout(height='25px', width='50%'),…"
      ]
     },
     "metadata": {},
     "output_type": "display_data"
    }
   ],
   "source": [
    "from pyspark.sql import SparkSession\n",
    "spark = SparkSession.builder.getOrCreate()\n",
    "sc = spark.sparkContext\n"
   ]
  },
  {
   "cell_type": "code",
   "execution_count": 17,
   "id": "indian-residence",
   "metadata": {},
   "outputs": [
    {
     "data": {
      "application/vnd.jupyter.widget-view+json": {
       "model_id": "5a4f03877ae146b1a1f60a01357560c2",
       "version_major": 2,
       "version_minor": 0
      },
      "text/plain": [
       "VBox()"
      ]
     },
     "metadata": {},
     "output_type": "display_data"
    },
    {
     "data": {
      "application/vnd.jupyter.widget-view+json": {
       "model_id": "",
       "version_major": 2,
       "version_minor": 0
      },
      "text/plain": [
       "FloatProgress(value=0.0, bar_style='info', description='Progress:', layout=Layout(height='25px', width='50%'),…"
      ]
     },
     "metadata": {},
     "output_type": "display_data"
    },
    {
     "name": "stdout",
     "output_type": "stream",
     "text": [
      "+---+--------------------+--------------------+--------------------+\n",
      "|eco|                 fen|               moves|                name|\n",
      "+---+--------------------+--------------------+--------------------+\n",
      "|B02|rnbqkb1r/pppppppp...|           1. e4 Nf6|    Alekhine Defense|\n",
      "|B03|rnbqkb1r/pppppppp...|1. e4 Nf6 2. e5 N...|Alekhine Defense,...|\n",
      "|B03|rnbqkb1r/ppp1pppp...|1. e4 Nf6 2. e5 N...|Alekhine Defense,...|\n",
      "|B03|rnbqkb1r/ppp1pppp...|1. e4 Nf6 2. e5 N...|Alekhine Defense,...|\n",
      "|B03|rnbqkb1r/ppp1pppp...|1. e4 Nf6 2. e5 N...|Alekhine Defense:...|\n",
      "|B02|rnbqkbnr/pppppppp...| 1. e4 Nf6 2. e5 Ng8|Alekhine Defense:...|\n",
      "|B02|rnbqkbnr/ppppp1pp...|1. e4 Nf6 2. e5 N...|Alekhine Defense:...|\n",
      "|B03|rnbqkb1r/pppppppp...|1. e4 Nf6 2. e5 N...|Alekhine Defense:...|\n",
      "|B03|rnbqkb1r/ppp1pppp...|1. e4 Nf6 2. e5 N...|Alekhine Defense:...|\n",
      "|B03|r2q1rk1/pp2ppbp/1...|1. e4 Nf6 2. e5 N...|Alekhine Defense:...|\n",
      "|B03|rnbqkb1r/ppp1pppp...|1. e4 Nf6 2. e5 N...|Alekhine Defense:...|\n",
      "|B03|r1bqkb1r/ppp1pppp...|1. e4 Nf6 2. e5 N...|Alekhine Defense:...|\n",
      "|B03|rnbqkb1r/ppp1pp1p...|1. e4 Nf6 2. e5 N...|Alekhine Defense:...|\n",
      "|B03|rnbqkb1r/ppp1pp1p...|1. e4 Nf6 2. e5 N...|Alekhine Defense:...|\n",
      "|B03|r2qkb1r/ppp1p1pp/...|1. e4 Nf6 2. e5 N...|Alekhine Defense:...|\n",
      "|B03|rn1q1rk1/ppp1b1pp...|1. e4 Nf6 2. e5 N...|Alekhine Defense:...|\n",
      "|B03|r1bqkb1r/ppp1pppp...|1. e4 Nf6 2. e5 N...|Alekhine Defense:...|\n",
      "|B03|2kr3r/pppqbppp/1n...|1. e4 Nf6 2. e5 N...|Alekhine Defense:...|\n",
      "|B03|rn1qkb1r/ppp1pppp...|1. e4 Nf6 2. e5 N...|Alekhine Defense:...|\n",
      "|B03|rnbqkb1r/ppp1pppp...|1. e4 Nf6 2. e5 N...|Alekhine Defense:...|\n",
      "+---+--------------------+--------------------+--------------------+\n",
      "only showing top 20 rows"
     ]
    }
   ],
   "source": [
    "# Ex 2.1 \n",
    "# Fetch JSON-file from s3 as DataFrame and show its structure\n",
    "df = spark.read.option(\"multiline\",True).json(\"s3://link-workshops/eco.json\")\n",
    "df.cache()\n",
    "df.show()"
   ]
  },
  {
   "cell_type": "code",
   "execution_count": 37,
   "id": "forty-temple",
   "metadata": {},
   "outputs": [
    {
     "data": {
      "application/vnd.jupyter.widget-view+json": {
       "model_id": "1fbcdf31850c4ec992a4ff5e535f6260",
       "version_major": 2,
       "version_minor": 0
      },
      "text/plain": [
       "VBox()"
      ]
     },
     "metadata": {},
     "output_type": "display_data"
    },
    {
     "data": {
      "application/vnd.jupyter.widget-view+json": {
       "model_id": "",
       "version_major": 2,
       "version_minor": 0
      },
      "text/plain": [
       "FloatProgress(value=0.0, bar_style='info', description='Progress:', layout=Layout(height='25px', width='50%'),…"
      ]
     },
     "metadata": {},
     "output_type": "display_data"
    },
    {
     "name": "stdout",
     "output_type": "stream",
     "text": [
      "+---+-----+\n",
      "|eco|count|\n",
      "+---+-----+\n",
      "|A00|  150|\n",
      "|B00|   78|\n",
      "|D00|   64|\n",
      "|B06|   57|\n",
      "|A40|   52|\n",
      "|C44|   45|\n",
      "|C41|   45|\n",
      "|C33|   44|\n",
      "|C40|   40|\n",
      "|C42|   37|\n",
      "|A04|   36|\n",
      "|B01|   35|\n",
      "|C45|   35|\n",
      "|C37|   35|\n",
      "|C30|   33|\n",
      "|C51|   32|\n",
      "|C39|   31|\n",
      "|B07|   30|\n",
      "|C00|   30|\n",
      "|C23|   30|\n",
      "+---+-----+\n",
      "only showing top 20 rows"
     ]
    }
   ],
   "source": [
    "# Ex 2.2\n",
    "# Group all eco codes from the dataframe, sort them and show the highest\n",
    "df.groupBy('eco').count().orderBy('count',ascending=False).show()"
   ]
  },
  {
   "cell_type": "markdown",
   "id": "correct-footage",
   "metadata": {},
   "source": []
  },
  {
   "cell_type": "code",
   "execution_count": 48,
   "id": "concrete-harassment",
   "metadata": {},
   "outputs": [
    {
     "data": {
      "application/vnd.jupyter.widget-view+json": {
       "model_id": "70f0970a228a4a8b8ca44e773eeac4a0",
       "version_major": 2,
       "version_minor": 0
      },
      "text/plain": [
       "VBox()"
      ]
     },
     "metadata": {},
     "output_type": "display_data"
    },
    {
     "data": {
      "application/vnd.jupyter.widget-view+json": {
       "model_id": "",
       "version_major": 2,
       "version_minor": 0
      },
      "text/plain": [
       "FloatProgress(value=0.0, bar_style='info', description='Progress:', layout=Layout(height='25px', width='50%'),…"
      ]
     },
     "metadata": {},
     "output_type": "display_data"
    },
    {
     "name": "stdout",
     "output_type": "stream",
     "text": [
      "55"
     ]
    }
   ],
   "source": [
    "# Ex 2.3\n",
    "# Count how many different variations there are of Alekhines opening\n",
    "\n",
    "df.select(\"name\").where(\"name like 'Ale%'\").count()"
   ]
  },
  {
   "cell_type": "code",
   "execution_count": 71,
   "id": "enclosed-directive",
   "metadata": {},
   "outputs": [
    {
     "data": {
      "application/vnd.jupyter.widget-view+json": {
       "model_id": "4ad6448bd7ba476a861ee93f865df1e1",
       "version_major": 2,
       "version_minor": 0
      },
      "text/plain": [
       "VBox()"
      ]
     },
     "metadata": {},
     "output_type": "display_data"
    },
    {
     "data": {
      "application/vnd.jupyter.widget-view+json": {
       "model_id": "",
       "version_major": 2,
       "version_minor": 0
      },
      "text/plain": [
       "FloatProgress(value=0.0, bar_style='info', description='Progress:', layout=Layout(height='25px', width='50%'),…"
      ]
     },
     "metadata": {},
     "output_type": "display_data"
    },
    {
     "name": "stdout",
     "output_type": "stream",
     "text": [
      "+----------+-----+\n",
      "|     short|count|\n",
      "+----------+-----+\n",
      "|Ruy Lopez:|  227|\n",
      "|King's Gam|  189|\n",
      "|Italian Ga|  156|\n",
      "|Vienna Gam|   58|\n",
      "|Scotch Gam|   55|\n",
      "|Four Knigh|   44|\n",
      "|Philidor D|   42|\n",
      "|Russian Ga|   42|\n",
      "|Bishop's O|   39|\n",
      "|King's Paw|   36|\n",
      "|Latvian Ga|   26|\n",
      "|Center Gam|   20|\n",
      "|Ponziani O|   14|\n",
      "|Danish Gam|    8|\n",
      "|Three Knig|    6|\n",
      "|Petrov's D|    5|\n",
      "|Elephant G|    4|\n",
      "|King's Kni|    3|\n",
      "|Portuguese|    3|\n",
      "|Van Geet O|    2|\n",
      "+----------+-----+\n",
      "only showing top 20 rows"
     ]
    }
   ],
   "source": [
    "# Ex 2.4\n",
    "# Find all openings starting with e4 e5. Define a opening as having the first 10 letters unique.\n",
    "from pyspark.sql.functions import substring\n",
    "\n",
    "major = df.select(\"name\", substring('name', 0, 10).alias('short')).where(\"moves like '1. e4 e5 %'\")\n",
    "major.groupBy('short').count().orderBy('count', ascending=False).show()"
   ]
  },
  {
   "cell_type": "code",
   "execution_count": null,
   "id": "stunning-conversion",
   "metadata": {},
   "outputs": [],
   "source": []
  }
 ],
 "metadata": {
  "kernelspec": {
   "display_name": "PySpark",
   "language": "",
   "name": "pysparkkernel"
  },
  "language_info": {
   "codemirror_mode": {
    "name": "python",
    "version": 2
   },
   "mimetype": "text/x-python",
   "name": "pyspark",
   "pygments_lexer": "python2"
  }
 },
 "nbformat": 4,
 "nbformat_minor": 5
}
