{
 "cells": [
  {
   "cell_type": "code",
   "execution_count": 1,
   "id": "blank-duplicate",
   "metadata": {},
   "outputs": [
    {
     "data": {
      "application/vnd.jupyter.widget-view+json": {
       "model_id": "0a51e71819994b679440f73fb347f2fc",
       "version_major": 2,
       "version_minor": 0
      },
      "text/plain": [
       "VBox()"
      ]
     },
     "metadata": {},
     "output_type": "display_data"
    },
    {
     "name": "stdout",
     "output_type": "stream",
     "text": [
      "Starting Spark application\n"
     ]
    },
    {
     "data": {
      "text/html": [
       "<table>\n",
       "<tr><th>ID</th><th>YARN Application ID</th><th>Kind</th><th>State</th><th>Spark UI</th><th>Driver log</th><th>Current session?</th></tr><tr><td>2</td><td>application_1618243386223_0003</td><td>pyspark</td><td>idle</td><td><a target=\"_blank\" href=\"http://ip-172-31-30-220.eu-central-1.compute.internal:20888/proxy/application_1618243386223_0003/\">Link</a></td><td><a target=\"_blank\" href=\"http://ip-172-31-17-47.eu-central-1.compute.internal:8042/node/containerlogs/container_1618243386223_0003_01_000001/livy\">Link</a></td><td>✔</td></tr></table>"
      ],
      "text/plain": [
       "<IPython.core.display.HTML object>"
      ]
     },
     "metadata": {},
     "output_type": "display_data"
    },
    {
     "data": {
      "application/vnd.jupyter.widget-view+json": {
       "model_id": "",
       "version_major": 2,
       "version_minor": 0
      },
      "text/plain": [
       "FloatProgress(value=0.0, bar_style='info', description='Progress:', layout=Layout(height='25px', width='50%'),…"
      ]
     },
     "metadata": {},
     "output_type": "display_data"
    },
    {
     "name": "stdout",
     "output_type": "stream",
     "text": [
      "SparkSession available as 'spark'.\n"
     ]
    },
    {
     "data": {
      "application/vnd.jupyter.widget-view+json": {
       "model_id": "",
       "version_major": 2,
       "version_minor": 0
      },
      "text/plain": [
       "FloatProgress(value=0.0, bar_style='info', description='Progress:', layout=Layout(height='25px', width='50%'),…"
      ]
     },
     "metadata": {},
     "output_type": "display_data"
    }
   ],
   "source": [
    "from pyspark.sql import SparkSession\n",
    "import spark.sparkContext as sc\n",
    "spark = SparkSession.builder.getOrCreate()"
   ]
  },
  {
   "cell_type": "code",
   "execution_count": 2,
   "id": "extraordinary-soccer",
   "metadata": {},
   "outputs": [
    {
     "data": {
      "application/vnd.jupyter.widget-view+json": {
       "model_id": "5f91a1a14a0d4bfcb9750ba6e5a00349",
       "version_major": 2,
       "version_minor": 0
      },
      "text/plain": [
       "VBox()"
      ]
     },
     "metadata": {},
     "output_type": "display_data"
    },
    {
     "data": {
      "application/vnd.jupyter.widget-view+json": {
       "model_id": "",
       "version_major": 2,
       "version_minor": 0
      },
      "text/plain": [
       "FloatProgress(value=0.0, bar_style='info', description='Progress:', layout=Layout(height='25px', width='50%'),…"
      ]
     },
     "metadata": {},
     "output_type": "display_data"
    }
   ],
   "source": [
    "# In this exercise, we will look at doing basic manipulation of RDD."
   ]
  },
  {
   "cell_type": "code",
   "execution_count": 32,
   "id": "unnecessary-luther",
   "metadata": {},
   "outputs": [
    {
     "data": {
      "application/vnd.jupyter.widget-view+json": {
       "model_id": "8329d75d3ea74542bd94338dfc21787e",
       "version_major": 2,
       "version_minor": 0
      },
      "text/plain": [
       "VBox()"
      ]
     },
     "metadata": {},
     "output_type": "display_data"
    },
    {
     "data": {
      "application/vnd.jupyter.widget-view+json": {
       "model_id": "",
       "version_major": 2,
       "version_minor": 0
      },
      "text/plain": [
       "FloatProgress(value=0.0, bar_style='info', description='Progress:', layout=Layout(height='25px', width='50%'),…"
      ]
     },
     "metadata": {},
     "output_type": "display_data"
    },
    {
     "name": "stdout",
     "output_type": "stream",
     "text": [
      "[3]\n",
      "15150"
     ]
    }
   ],
   "source": [
    "# First exercise.\n",
    "# Create a RDD from 100 numbers, tripple them and sum\n",
    "def tripple(x):\n",
    "    return x * 3\n",
    "data = list(range(1,101))\n",
    "rdd = sc.parallelize(data)\n",
    "rdd = rdd.map(tripple)\n",
    "first = rdd.take(1) # Verify that elements exists\n",
    "print(first)\n",
    "assert(first == [3])\n",
    "out = rdd.sum()\n",
    "print(out)\n",
    "assert(out == 152150)"
   ]
  },
  {
   "cell_type": "code",
   "execution_count": 35,
   "id": "smooth-florida",
   "metadata": {},
   "outputs": [
    {
     "data": {
      "application/vnd.jupyter.widget-view+json": {
       "model_id": "e674953e612c41aab5c10c3b6cfa1762",
       "version_major": 2,
       "version_minor": 0
      },
      "text/plain": [
       "VBox()"
      ]
     },
     "metadata": {},
     "output_type": "display_data"
    },
    {
     "data": {
      "application/vnd.jupyter.widget-view+json": {
       "model_id": "",
       "version_major": 2,
       "version_minor": 0
      },
      "text/plain": [
       "FloatProgress(value=0.0, bar_style='info', description='Progress:', layout=Layout(height='25px', width='50%'),…"
      ]
     },
     "metadata": {},
     "output_type": "display_data"
    },
    {
     "name": "stdout",
     "output_type": "stream",
     "text": [
      "['1', '200', '2', '500', '3', '-99', '4', '99', '5', '600']"
     ]
    }
   ],
   "source": [
    "# Second exercise\n",
    "# Read a csv from s3 and split the csv file.\n",
    "\n",
    "def parseRow(line):\n",
    "    elements = line.split(\",\")\n",
    "    return elements\n",
    "    \n",
    "rdd = rdd.flatMap(parseRow)\n",
    "rdd.collect()"
   ]
  },
  {
   "cell_type": "code",
   "execution_count": null,
   "id": "following-reader",
   "metadata": {},
   "outputs": [],
   "source": []
  },
  {
   "cell_type": "code",
   "execution_count": 45,
   "id": "convenient-passport",
   "metadata": {},
   "outputs": [
    {
     "data": {
      "application/vnd.jupyter.widget-view+json": {
       "model_id": "e3ab72dfde42441babbe96a607c2f956",
       "version_major": 2,
       "version_minor": 0
      },
      "text/plain": [
       "VBox()"
      ]
     },
     "metadata": {},
     "output_type": "display_data"
    },
    {
     "data": {
      "application/vnd.jupyter.widget-view+json": {
       "model_id": "",
       "version_major": 2,
       "version_minor": 0
      },
      "text/plain": [
       "FloatProgress(value=0.0, bar_style='info', description='Progress:', layout=Layout(height='25px', width='50%'),…"
      ]
     },
     "metadata": {},
     "output_type": "display_data"
    },
    {
     "name": "stdout",
     "output_type": "stream",
     "text": [
      "[3]"
     ]
    }
   ],
   "source": [
    "# Third exercise\n",
    "# Read a csv from s3. Find users with less score than zero, and return their ids.\n",
    "\n",
    "def parseRow(line):\n",
    "    elements = line.split(\",\")\n",
    "    return elements\n",
    "def filterPoor(x):\n",
    "    return int(x[1]) < 0\n",
    "\n",
    "rdd = sc.textFile(\"s3://link-workshops/example_data.csv\")\n",
    "rdd = rdd.map(parseRow).filter(filterPoor).map(lambda x: int(x[0]))\n",
    "less_than_zero = rdd.collect()\n",
    "print(less_than_zero)\n",
    "assert(len(less_than_zero) == 1)\n"
   ]
  },
  {
   "cell_type": "code",
   "execution_count": 50,
   "id": "relative-irish",
   "metadata": {},
   "outputs": [
    {
     "data": {
      "application/vnd.jupyter.widget-view+json": {
       "model_id": "6216f224e5354f4b9a6913debc642cc8",
       "version_major": 2,
       "version_minor": 0
      },
      "text/plain": [
       "VBox()"
      ]
     },
     "metadata": {},
     "output_type": "display_data"
    },
    {
     "data": {
      "application/vnd.jupyter.widget-view+json": {
       "model_id": "",
       "version_major": 2,
       "version_minor": 0
      },
      "text/plain": [
       "FloatProgress(value=0.0, bar_style='info', description='Progress:', layout=Layout(height='25px', width='50%'),…"
      ]
     },
     "metadata": {},
     "output_type": "display_data"
    },
    {
     "name": "stdout",
     "output_type": "stream",
     "text": [
      "['sweden', 'usa']"
     ]
    }
   ],
   "source": [
    "# Fourth exercise.\n",
    "# Take a list of values, and translate it through a lookup table.\n",
    "# But to save time, broadcast a read only variable first.\n",
    "\n",
    "countries  = {\"sv\": \"sweden\", \"us\": \"usa\"}\n",
    "data = [\"sv\",\"us\"]\n",
    "broadcast_countries = spark.sparkContext.broadcast(countries)\n",
    "def convert(code):\n",
    "    return broadcast_countries.value[code]\n",
    "\n",
    "rdd = spark.sparkContext.parallelize(data)\n",
    "rdd = rdd.map(convert)\n",
    "res = rdd.collect()\n",
    "print(res)\n",
    "assert(res[0] == \"sweden\")\n"
   ]
  },
  {
   "cell_type": "code",
   "execution_count": 62,
   "id": "earlier-vienna",
   "metadata": {},
   "outputs": [
    {
     "data": {
      "application/vnd.jupyter.widget-view+json": {
       "model_id": "0f2a905163814b47b74ffa9a7368ac84",
       "version_major": 2,
       "version_minor": 0
      },
      "text/plain": [
       "VBox()"
      ]
     },
     "metadata": {},
     "output_type": "display_data"
    },
    {
     "data": {
      "application/vnd.jupyter.widget-view+json": {
       "model_id": "",
       "version_major": 2,
       "version_minor": 0
      },
      "text/plain": [
       "FloatProgress(value=0.0, bar_style='info', description='Progress:', layout=Layout(height='25px', width='50%'),…"
      ]
     },
     "metadata": {},
     "output_type": "display_data"
    }
   ],
   "source": [
    "# Fifth exercise.\n",
    "# Create an accumulator and implement a custom sum operation.\n",
    "# Then sum the scores of the example_data.csv\n",
    "\n",
    "accum=sc.accumulator(0)\n",
    "rdd = sc.textFile(\"s3://link-workshops/example_data.csv\")\n",
    "rdd.map(parseRow).map(lambda x: int(x[1])).foreach(lambda x:accum.add(x))\n",
    "assert(accum.value == 1300)\n"
   ]
  },
  {
   "cell_type": "code",
   "execution_count": null,
   "id": "operational-least",
   "metadata": {},
   "outputs": [],
   "source": []
  }
 ],
 "metadata": {
  "kernelspec": {
   "display_name": "PySpark",
   "language": "",
   "name": "pysparkkernel"
  },
  "language_info": {
   "codemirror_mode": {
    "name": "python",
    "version": 2
   },
   "mimetype": "text/x-python",
   "name": "pyspark",
   "pygments_lexer": "python2"
  }
 },
 "nbformat": 4,
 "nbformat_minor": 5
}
