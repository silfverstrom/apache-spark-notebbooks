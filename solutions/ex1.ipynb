{
 "cells": [
  {
   "cell_type": "code",
   "execution_count": 70,
   "id": "proved-maria",
   "metadata": {},
   "outputs": [
    {
     "data": {
      "application/vnd.jupyter.widget-view+json": {
       "model_id": "7c711fb915c2482f84d94f977c807654",
       "version_major": 2,
       "version_minor": 0
      },
      "text/plain": [
       "VBox()"
      ]
     },
     "metadata": {},
     "output_type": "display_data"
    },
    {
     "data": {
      "application/vnd.jupyter.widget-view+json": {
       "model_id": "",
       "version_major": 2,
       "version_minor": 0
      },
      "text/plain": [
       "FloatProgress(value=0.0, bar_style='info', description='Progress:', layout=Layout(height='25px', width='50%'),…"
      ]
     },
     "metadata": {},
     "output_type": "display_data"
    }
   ],
   "source": [
    "from pyspark.sql import SparkSession\n",
    "spark = SparkSession.builder.getOrCreate()\n",
    "sc = spark.sparkContext\n"
   ]
  },
  {
   "cell_type": "code",
   "execution_count": 2,
   "id": "tested-devices",
   "metadata": {},
   "outputs": [
    {
     "data": {
      "application/vnd.jupyter.widget-view+json": {
       "model_id": "5f91a1a14a0d4bfcb9750ba6e5a00349",
       "version_major": 2,
       "version_minor": 0
      },
      "text/plain": [
       "VBox()"
      ]
     },
     "metadata": {},
     "output_type": "display_data"
    },
    {
     "data": {
      "application/vnd.jupyter.widget-view+json": {
       "model_id": "",
       "version_major": 2,
       "version_minor": 0
      },
      "text/plain": [
       "FloatProgress(value=0.0, bar_style='info', description='Progress:', layout=Layout(height='25px', width='50%'),…"
      ]
     },
     "metadata": {},
     "output_type": "display_data"
    }
   ],
   "source": [
    "# In this exercise, we will look at doing basic manipulation of RDD."
   ]
  },
  {
   "cell_type": "code",
   "execution_count": 72,
   "id": "difficult-glasgow",
   "metadata": {},
   "outputs": [
    {
     "data": {
      "application/vnd.jupyter.widget-view+json": {
       "model_id": "359b83f5dc6645a8b4c380364ecc653b",
       "version_major": 2,
       "version_minor": 0
      },
      "text/plain": [
       "VBox()"
      ]
     },
     "metadata": {},
     "output_type": "display_data"
    },
    {
     "data": {
      "application/vnd.jupyter.widget-view+json": {
       "model_id": "",
       "version_major": 2,
       "version_minor": 0
      },
      "text/plain": [
       "FloatProgress(value=0.0, bar_style='info', description='Progress:', layout=Layout(height='25px', width='50%'),…"
      ]
     },
     "metadata": {},
     "output_type": "display_data"
    },
    {
     "name": "stdout",
     "output_type": "stream",
     "text": [
      "[3]\n",
      "15150"
     ]
    }
   ],
   "source": [
    "# First exercise.\n",
    "# Create a RDD from 100 numbers, tripple them and sum\n",
    "def tripple(x):\n",
    "    return x * 3\n",
    "data = list(range(1,101))\n",
    "rdd = sc.parallelize(data)\n",
    "rdd = rdd.map(tripple)\n",
    "first = rdd.take(1) # Verify that elements exists\n",
    "print(first)\n",
    "assert(first == [3])\n",
    "out = rdd.sum()\n",
    "print(out)\n",
    "assert(out == 15150)"
   ]
  },
  {
   "cell_type": "code",
   "execution_count": 35,
   "id": "existing-explanation",
   "metadata": {},
   "outputs": [
    {
     "data": {
      "application/vnd.jupyter.widget-view+json": {
       "model_id": "e674953e612c41aab5c10c3b6cfa1762",
       "version_major": 2,
       "version_minor": 0
      },
      "text/plain": [
       "VBox()"
      ]
     },
     "metadata": {},
     "output_type": "display_data"
    },
    {
     "data": {
      "application/vnd.jupyter.widget-view+json": {
       "model_id": "",
       "version_major": 2,
       "version_minor": 0
      },
      "text/plain": [
       "FloatProgress(value=0.0, bar_style='info', description='Progress:', layout=Layout(height='25px', width='50%'),…"
      ]
     },
     "metadata": {},
     "output_type": "display_data"
    },
    {
     "name": "stdout",
     "output_type": "stream",
     "text": [
      "['1', '200', '2', '500', '3', '-99', '4', '99', '5', '600']"
     ]
    }
   ],
   "source": [
    "# Second exercise\n",
    "# Read a csv from s3 and split the csv file.\n",
    "\n",
    "def parseRow(line):\n",
    "    elements = line.split(\",\")\n",
    "    return elements\n",
    "    \n",
    "rdd = rdd.flatMap(parseRow)\n",
    "rdd.collect()"
   ]
  },
  {
   "cell_type": "code",
   "execution_count": null,
   "id": "convinced-insider",
   "metadata": {},
   "outputs": [],
   "source": []
  },
  {
   "cell_type": "code",
   "execution_count": 45,
   "id": "greater-proportion",
   "metadata": {},
   "outputs": [
    {
     "data": {
      "application/vnd.jupyter.widget-view+json": {
       "model_id": "e3ab72dfde42441babbe96a607c2f956",
       "version_major": 2,
       "version_minor": 0
      },
      "text/plain": [
       "VBox()"
      ]
     },
     "metadata": {},
     "output_type": "display_data"
    },
    {
     "data": {
      "application/vnd.jupyter.widget-view+json": {
       "model_id": "",
       "version_major": 2,
       "version_minor": 0
      },
      "text/plain": [
       "FloatProgress(value=0.0, bar_style='info', description='Progress:', layout=Layout(height='25px', width='50%'),…"
      ]
     },
     "metadata": {},
     "output_type": "display_data"
    },
    {
     "name": "stdout",
     "output_type": "stream",
     "text": [
      "[3]"
     ]
    }
   ],
   "source": [
    "# Third exercise\n",
    "# Read a csv from s3. Find users with less score than zero, and return their ids.\n",
    "\n",
    "def parseRow(line):\n",
    "    elements = line.split(\",\")\n",
    "    return elements\n",
    "def filterPoor(x):\n",
    "    return int(x[1]) < 0\n",
    "\n",
    "rdd = sc.textFile(\"s3://link-workshops/example_data.csv\")\n",
    "rdd = rdd.map(parseRow).filter(filterPoor).map(lambda x: int(x[0]))\n",
    "less_than_zero = rdd.collect()\n",
    "print(less_than_zero)\n",
    "assert(len(less_than_zero) == 1)\n"
   ]
  },
  {
   "cell_type": "code",
   "execution_count": 50,
   "id": "dramatic-marine",
   "metadata": {},
   "outputs": [
    {
     "data": {
      "application/vnd.jupyter.widget-view+json": {
       "model_id": "6216f224e5354f4b9a6913debc642cc8",
       "version_major": 2,
       "version_minor": 0
      },
      "text/plain": [
       "VBox()"
      ]
     },
     "metadata": {},
     "output_type": "display_data"
    },
    {
     "data": {
      "application/vnd.jupyter.widget-view+json": {
       "model_id": "",
       "version_major": 2,
       "version_minor": 0
      },
      "text/plain": [
       "FloatProgress(value=0.0, bar_style='info', description='Progress:', layout=Layout(height='25px', width='50%'),…"
      ]
     },
     "metadata": {},
     "output_type": "display_data"
    },
    {
     "name": "stdout",
     "output_type": "stream",
     "text": [
      "['sweden', 'usa']"
     ]
    }
   ],
   "source": [
    "# Fourth exercise.\n",
    "# Take a list of values, and translate it through a lookup table.\n",
    "# But to save time, broadcast a read only variable first.\n",
    "\n",
    "countries  = {\"sv\": \"sweden\", \"us\": \"usa\"}\n",
    "data = [\"sv\",\"us\"]\n",
    "broadcast_countries = spark.sparkContext.broadcast(countries)\n",
    "def convert(code):\n",
    "    return broadcast_countries.value[code]\n",
    "\n",
    "rdd = spark.sparkContext.parallelize(data)\n",
    "rdd = rdd.map(convert)\n",
    "res = rdd.collect()\n",
    "print(res)\n",
    "assert(res[0] == \"sweden\")\n"
   ]
  },
  {
   "cell_type": "code",
   "execution_count": 62,
   "id": "linear-grass",
   "metadata": {},
   "outputs": [
    {
     "data": {
      "application/vnd.jupyter.widget-view+json": {
       "model_id": "0f2a905163814b47b74ffa9a7368ac84",
       "version_major": 2,
       "version_minor": 0
      },
      "text/plain": [
       "VBox()"
      ]
     },
     "metadata": {},
     "output_type": "display_data"
    },
    {
     "data": {
      "application/vnd.jupyter.widget-view+json": {
       "model_id": "",
       "version_major": 2,
       "version_minor": 0
      },
      "text/plain": [
       "FloatProgress(value=0.0, bar_style='info', description='Progress:', layout=Layout(height='25px', width='50%'),…"
      ]
     },
     "metadata": {},
     "output_type": "display_data"
    }
   ],
   "source": [
    "# Fifth exercise.\n",
    "# Create an accumulator and implement a custom sum operation.\n",
    "# Then sum the scores of the example_data.csv\n",
    "\n",
    "accum=sc.accumulator(0)\n",
    "rdd = sc.textFile(\"s3://link-workshops/example_data.csv\")\n",
    "rdd.map(parseRow).map(lambda x: int(x[1])).foreach(lambda x:accum.add(x))\n",
    "assert(accum.value == 1300)\n"
   ]
  },
  {
   "cell_type": "code",
   "execution_count": null,
   "id": "improving-yellow",
   "metadata": {},
   "outputs": [],
   "source": []
  },
  {
   "cell_type": "code",
   "execution_count": null,
   "id": "immediate-karen",
   "metadata": {},
   "outputs": [],
   "source": []
  }
 ],
 "metadata": {
  "kernelspec": {
   "display_name": "PySpark",
   "language": "",
   "name": "pysparkkernel"
  },
  "language_info": {
   "codemirror_mode": {
    "name": "python",
    "version": 2
   },
   "mimetype": "text/x-python",
   "name": "pyspark",
   "pygments_lexer": "python2"
  }
 },
 "nbformat": 4,
 "nbformat_minor": 5
}
